{
 "cells": [
  {
   "cell_type": "code",
   "execution_count": null,
   "metadata": {},
   "outputs": [],
   "source": [
    "import pandas as pd\n",
    "room_l=[10,11,12,18,17,15]\n",
    "room_b=[15,17,18,20,22,21]\n",
    "df=pd.DataFrame({'r_l':room_l,'r_b':room_b})\n",
    "print(df)"
   ]
  },
  {
   "cell_type": "code",
   "execution_count": null,
   "metadata": {},
   "outputs": [],
   "source": [
    "df['area']=df['r_l']*df[\"r_b\"]\n",
    "print(df)"
   ]
  },
  {
   "cell_type": "code",
   "execution_count": null,
   "metadata": {},
   "outputs": [],
   "source": [
    "import numpy as np\n",
    "df['area']=np.where(df['area']>=300,\"big\",np.where(df['area']<=170,\"small\",\"medium\"))\n",
    "df\n",
    "df1=pd.get_dummies(data=df)\n",
    "print(df1)"
   ]
  },
  {
   "cell_type": "code",
   "execution_count": null,
   "metadata": {},
   "outputs": [],
   "source": [
    "age=[18,20,23,19,18,22]\n",
    "city=[\"A\",\"B\",\"A\",\"B\",\"C\",\"A\"]\n",
    "df2=pd.DataFrame({\"age\":age,\"city\":city})\n",
    "print(df)\n",
    "df3=pd.get_dummies(data=df)\n",
    "print(df3)"
   ]
  },
  {
   "cell_type": "code",
   "execution_count": null,
   "metadata": {},
   "outputs": [],
   "source": [
    "df3=pd.get_dummies(data=df,drop_first=True)\n",
    "print(df3)"
   ]
  },
  {
   "cell_type": "code",
   "execution_count": null,
   "metadata": {},
   "outputs": [],
   "source": [
    "import matplotlib.pyplot as plt\n",
    "import seaborn as sns\n",
    "\n",
    "import pandas as pd\n",
    "room_l=[10,11,12,18,17,15]\n",
    "room_b=[15,17,18,20,22,21]\n",
    "df=pd.DataFrame({'r_l':room_l,'r_b':room_b})\n",
    "print(df)\n",
    "sns.regplot(data=df,x=\"r_l\",y=\"r_b\")"
   ]
  },
  {
   "cell_type": "code",
   "execution_count": null,
   "metadata": {},
   "outputs": [],
   "source": [
    "df=pd.read_csv(\"Book1.csv\")\n",
    "print(df.head())"
   ]
  },
  {
   "cell_type": "code",
   "execution_count": null,
   "metadata": {},
   "outputs": [],
   "source": [
    "sns.regplot(x=\"cgpa\",y=\"package\",data=df)\n",
    "plt.show()"
   ]
  },
  {
   "cell_type": "code",
   "execution_count": null,
   "metadata": {},
   "outputs": [],
   "source": [
    "x=df.iloc[:,0:1]\n",
    "y=df.iloc[:,-1]\n",
    "print(type(x))\n",
    "print(type(y))"
   ]
  },
  {
   "cell_type": "code",
   "execution_count": null,
   "metadata": {
    "scrolled": true
   },
   "outputs": [],
   "source": [
    "from sklearn.model_selection import train_test_split\n",
    "x_train,x_test,y_train,y_test=train_test_split(x,y,test_size=0.2,random_state=5)\n",
    "print(x_train.shape)\n",
    "print(y_train.shape)\n",
    "print(x_test.shape)\n",
    "print(y_test.shape)"
   ]
  },
  {
   "cell_type": "code",
   "execution_count": null,
   "metadata": {},
   "outputs": [],
   "source": [
    "from sklearn.linear_model import LinearRegression\n",
    "lr=LinearRegression()\n",
    "lr.fit(x_train,y_train)\n",
    "y_pred=lr.predict(x_test)\n",
    "print(\"Actual\",y_test,\"Predicted\",y_pred)\n",
    "print(lr.coef_)\n",
    "print(lr.intercept_)"
   ]
  },
  {
   "cell_type": "code",
   "execution_count": null,
   "metadata": {},
   "outputs": [],
   "source": [
    "from sklearn import metrics\n",
    "print(\"MAE:\",metrics.mean_absolute_error(y_test,y_pred))\n",
    "print(\"MAE:\",metrics.mean_squared_error(y_test,y_pred))\n",
    "print(\"R2 Score:\",metrics.r2_score(y_test,y_pred))"
   ]
  },
  {
   "cell_type": "code",
   "execution_count": null,
   "metadata": {},
   "outputs": [],
   "source": [
    "y_pred=lr.predict([[9.85]])\n",
    "print(y_pred)"
   ]
  },
  {
   "cell_type": "code",
   "execution_count": null,
   "metadata": {},
   "outputs": [],
   "source": [
    "df=pd.read_csv(\"CAR DETAILS FROM CAR DEKHO.csv\")\n",
    "sns.regplot(x=\"km_driven\",y=\"selling_price\",data=df)\n",
    "plt.show()"
   ]
  },
  {
   "cell_type": "code",
   "execution_count": null,
   "metadata": {},
   "outputs": [],
   "source": [
    "from sklearn.model_selection import train_test_split\n",
    "x=df[[\"km_driven\"]]\n",
    "y=df[\"selling_price\"]\n",
    "x_train,x_test,y_train,y_test=train_test_split(x,y,test_size=0.2,random_state=5)"
   ]
  },
  {
   "cell_type": "code",
   "execution_count": null,
   "metadata": {},
   "outputs": [],
   "source": [
    "from sklearn.linear_model import LinearRegression\n",
    "lr=LinearRegression()\n",
    "lr.fit(x_train,y_train)\n",
    "y_pred=lr.predict(x_test)\n",
    "print(\"Actual\",y_test,\"Predicted\",y_pred)\n",
    "print(lr.coef_)\n",
    "print(lr.intercept_)"
   ]
  },
  {
   "cell_type": "code",
   "execution_count": null,
   "metadata": {},
   "outputs": [],
   "source": [
    "y_pred=lr.predict([[35000]])\n",
    "print(y_pred)"
   ]
  },
  {
   "cell_type": "code",
   "execution_count": null,
   "metadata": {},
   "outputs": [],
   "source": [
    "import pandas as pd\n",
    "import numpy as np\n",
    "import seaborn as sns\n",
    "import matplotlib.pyplot as plt\n",
    "df=pd.read_csv(\"olympic100.csv\")\n",
    "sns.regplot(x=\"year\",y=\"time\",data=df)"
   ]
  },
  {
   "cell_type": "code",
   "execution_count": null,
   "metadata": {},
   "outputs": [],
   "source": [
    "from sklearn.model_selection import train_test_split\n",
    "x=df[['year']]\n",
    "y=df['time']\n",
    "x_train,x_test,y_train,y_test=train_test_split(x,y,test_size=0.1,random_state=5)"
   ]
  },
  {
   "cell_type": "code",
   "execution_count": null,
   "metadata": {},
   "outputs": [],
   "source": [
    "from sklearn.linear_model import LinearRegression\n",
    "lr=LinearRegression()\n",
    "lr.fit(x_train,y_train)\n",
    "y_pred=lr.predict(x_test)\n",
    "print(\"Actual\",y_test,\"Predicted\",y_pred)\n",
    "print(lr.coef_)\n",
    "print(lr.intercept_)"
   ]
  },
  {
   "cell_type": "code",
   "execution_count": null,
   "metadata": {},
   "outputs": [],
   "source": [
    "y_pred1=lr.predict([[2024]])\n",
    "print(y_pred1)"
   ]
  },
  {
   "cell_type": "code",
   "execution_count": null,
   "metadata": {},
   "outputs": [],
   "source": [
    "from sklearn import metrics\n",
    "print(\"MSE: \",metrics.mean_squared_error(y_test,y_pred))\n",
    "print(\"MAE: \",metrics.mean_absolute_error(y_test,y_pred))\n",
    "print(\"R2_score: \",metrics.r2_score(y_test,y_pred))"
   ]
  },
  {
   "cell_type": "code",
   "execution_count": null,
   "metadata": {},
   "outputs": [],
   "source": [
    "df1=pd.read_csv(\"CAR DETAILS FROM CAR DEKHO.csv\")\n",
    "df1.head()\n",
    "df1[\"Age\"]=2024-df1[\"year\"]"
   ]
  },
  {
   "cell_type": "code",
   "execution_count": null,
   "metadata": {},
   "outputs": [],
   "source": [
    "x=df1[[\"Age\",\"km_driven\",\"fuel\",\"seller_type\",\"transmission\"]]\n",
    "y=df1[\"selling_price\"]\n",
    "x=pd.get_dummies(x)\n",
    "print(x)"
   ]
  },
  {
   "cell_type": "code",
   "execution_count": null,
   "metadata": {},
   "outputs": [],
   "source": [
    "from sklearn.model_selection import train_test_split\n",
    "x_train,x_test,y_train,y_test=train_test_split(x,y,test_size=0.2,random_state=5)"
   ]
  },
  {
   "cell_type": "code",
   "execution_count": null,
   "metadata": {},
   "outputs": [],
   "source": [
    "from sklearn.linear_model import LinearRegression\n",
    "lr=LinearRegression()\n",
    "lr.fit(x_train,y_train)\n",
    "y_pred=lr.predict(x_test)\n",
    "print(\"Actual\",y_test,\"Predicted\",y_pred)\n",
    "print(lr.coef_)\n",
    "print(lr.intercept_)"
   ]
  },
  {
   "cell_type": "code",
   "execution_count": null,
   "metadata": {},
   "outputs": [],
   "source": [
    "from sklearn import metrics\n",
    "print(\"MSE: \",metrics.mean_squared_error(y_test,y_pred))\n",
    "print(\"MAE: \",metrics.mean_absolute_error(y_test,y_pred))\n",
    "print(\"R2_score: \",metrics.r2_score(y_test,y_pred))"
   ]
  },
  {
   "cell_type": "code",
   "execution_count": null,
   "metadata": {},
   "outputs": [],
   "source": [
    "df2=pd.read_csv(\"winequalityN.csv\")\n",
    "# clean the data set and after that check multipal\n",
    "df2.isna().sum()"
   ]
  },
  {
   "cell_type": "code",
   "execution_count": null,
   "metadata": {},
   "outputs": [],
   "source": [
    "data=df2.dropna()"
   ]
  },
  {
   "cell_type": "code",
   "execution_count": null,
   "metadata": {},
   "outputs": [],
   "source": [
    "x=data[[\"type\",\"fixed acidity\",\"volatile acidity\",\"citric acid\",\"residual sugar\",\"chlorides\",\"free sulfur dioxide\",\"total sulfur dioxide\",\"density\",\"pH\",\"sulphates\",\"alcohol\"]]\n",
    "y=data[\"quality\"]\n",
    "x=pd.get_dummies(x)\n",
    "print(x)"
   ]
  },
  {
   "cell_type": "code",
   "execution_count": null,
   "metadata": {},
   "outputs": [],
   "source": [
    "from sklearn.model_selection import train_test_split\n",
    "x_train,x_test,y_train,y_test=train_test_split(x,y,test_size=0.2,random_state=5)"
   ]
  },
  {
   "cell_type": "code",
   "execution_count": null,
   "metadata": {},
   "outputs": [],
   "source": [
    "from sklearn.linear_model import LinearRegression\n",
    "lr=LinearRegression()\n",
    "lr.fit(x_train,y_train)\n",
    "y_pred=lr.predict(x_test)\n",
    "print(\"Actual\",y_test,\"Predicted\",y_pred)\n",
    "print(lr.coef_)\n",
    "print(lr.intercept_)"
   ]
  },
  {
   "cell_type": "code",
   "execution_count": null,
   "metadata": {},
   "outputs": [],
   "source": [
    "from sklearn import metrics\n",
    "print(\"MSE: \",metrics.mean_squared_error(y_test,y_pred))\n",
    "print(\"MAE: \",metrics.mean_absolute_error(y_test,y_pred))\n",
    "print(\"R2_score: \",metrics.r2_score(y_test,y_pred))"
   ]
  },
  {
   "cell_type": "code",
   "execution_count": null,
   "metadata": {},
   "outputs": [],
   "source": [
    "# ------------------------Polynomial Reg.--------------------------------#"
   ]
  },
  {
   "cell_type": "code",
   "execution_count": null,
   "metadata": {},
   "outputs": [],
   "source": [
    "df=pd.read_csv(\"data_poly.csv\")\n",
    "print(df)"
   ]
  },
  {
   "cell_type": "code",
   "execution_count": null,
   "metadata": {},
   "outputs": [],
   "source": [
    "x=df.iloc[:,1:2]\n",
    "y=df.iloc[:,2]"
   ]
  },
  {
   "cell_type": "code",
   "execution_count": null,
   "metadata": {},
   "outputs": [],
   "source": [
    "from sklearn.linear_model import LinearRegression"
   ]
  },
  {
   "cell_type": "code",
   "execution_count": null,
   "metadata": {},
   "outputs": [],
   "source": [
    "from sklearn.preprocessing import PolynomialFeatures"
   ]
  },
  {
   "cell_type": "code",
   "execution_count": null,
   "metadata": {},
   "outputs": [],
   "source": [
    "poly=PolynomialFeatures(degree=3)\n",
    "model_poly=poly.fit_transform(x)\n",
    "lr=LinearRegression()\n",
    "lr.fit(model_poly,y)\n",
    "plt.scatter(x,y)\n",
    "plt.plot(x,lr.predict(model_poly))\n",
    "plt.show()\n",
    "y_pred=lr.predict(model_poly)\n",
    "print(y_pred)"
   ]
  },
  {
   "cell_type": "code",
   "execution_count": null,
   "metadata": {},
   "outputs": [],
   "source": [
    "y_train=lr.predict(poly.fit_transform([[80]]))\n",
    "print(metrics.r2_score(y,y_pred))"
   ]
  },
  {
   "cell_type": "code",
   "execution_count": null,
   "metadata": {},
   "outputs": [],
   "source": [
    "df=pd.read_csv(\"olympic100.csv\")"
   ]
  },
  {
   "cell_type": "code",
   "execution_count": null,
   "metadata": {},
   "outputs": [],
   "source": [
    "from sklearn.model_selection import train_test_split\n",
    "x=df[['year']]\n",
    "y=df['time']\n",
    "x_train,x_test,y_train,y_test=train_test_split(x,y,test_size=0.1,random_state=5)"
   ]
  },
  {
   "cell_type": "code",
   "execution_count": null,
   "metadata": {},
   "outputs": [],
   "source": [
    "from sklearn.linear_model import LinearRegression\n",
    "from sklearn.preprocessing import PolynomialFeatures\n",
    "poly=PolynomialFeatures(degree=3)\n",
    "model_poly=poly.fit_transform(x_train)\n",
    "lr=LinearRegression()\n",
    "lr.fit(model_poly,y_train)\n",
    "\n",
    "plt.scatter(x_train,y_train)\n",
    "plt.plot(x_train,lr.predict(model_poly))\n",
    "plt.show()"
   ]
  },
  {
   "cell_type": "code",
   "execution_count": null,
   "metadata": {},
   "outputs": [],
   "source": [
    "lr.predict(poly.fit_transform([[2036]]))"
   ]
  },
  {
   "cell_type": "code",
   "execution_count": 1,
   "metadata": {},
   "outputs": [
    {
     "name": "stdout",
     "output_type": "stream",
     "text": [
      "     Pregnancies  Glucose  BloodPressure  SkinThickness  Insulin   BMI  \\\n",
      "0              6      148             72             35        0  33.6   \n",
      "1              1       85             66             29        0  26.6   \n",
      "2              8      183             64              0        0  23.3   \n",
      "3              1       89             66             23       94  28.1   \n",
      "4              0      137             40             35      168  43.1   \n",
      "..           ...      ...            ...            ...      ...   ...   \n",
      "763           10      101             76             48      180  32.9   \n",
      "764            2      122             70             27        0  36.8   \n",
      "765            5      121             72             23      112  26.2   \n",
      "766            1      126             60              0        0  30.1   \n",
      "767            1       93             70             31        0  30.4   \n",
      "\n",
      "     DiabetesPedigreeFunction  Age  Outcome  \n",
      "0                       0.627   50        1  \n",
      "1                       0.351   31        0  \n",
      "2                       0.672   32        1  \n",
      "3                       0.167   21        0  \n",
      "4                       2.288   33        1  \n",
      "..                        ...  ...      ...  \n",
      "763                     0.171   63        0  \n",
      "764                     0.340   27        0  \n",
      "765                     0.245   30        0  \n",
      "766                     0.349   47        1  \n",
      "767                     0.315   23        0  \n",
      "\n",
      "[768 rows x 9 columns]\n"
     ]
    }
   ],
   "source": [
    "import pandas as pd\n",
    "import matplotlib.pyplot as plt\n",
    "import seaborn as sns\n",
    "df=pd.read_csv(\"diabetes.csv\")\n",
    "print(df)"
   ]
  },
  {
   "cell_type": "code",
   "execution_count": 2,
   "metadata": {},
   "outputs": [],
   "source": [
    "x=df.drop(\"Outcome\",axis=1)\n",
    "y=df[\"Outcome\"]\n",
    "from sklearn.model_selection import train_test_split\n",
    "x_train,x_test,y_train,y_test=train_test_split(x,y,test_size=0.2,random_state=5)"
   ]
  },
  {
   "cell_type": "code",
   "execution_count": 3,
   "metadata": {},
   "outputs": [
    {
     "name": "stdout",
     "output_type": "stream",
     "text": [
      "567    0\n",
      "123    0\n",
      "615    0\n",
      "492    0\n",
      "288    0\n",
      "      ..\n",
      "432    0\n",
      "480    1\n",
      "7      0\n",
      "564    0\n",
      "40     0\n",
      "Name: Outcome, Length: 154, dtype: int64 /n [0 1 0 0 0 0 0 1 0 0 0 0 0 0 0 0 0 1 0 0 0 1 0 1 0 0 0 0 0 1 0 0 0 0 0 0 0\n",
      " 0 0 0 0 1 0 1 0 1 1 0 0 0 1 0 0 0 0 0 0 0 1 0 1 1 1 0 0 0 0 0 1 0 1 0 0 1\n",
      " 1 1 0 1 1 0 0 1 1 1 0 0 0 0 0 0 1 0 0 1 0 1 1 0 0 0 0 0 1 1 0 0 0 0 1 0 0\n",
      " 1 0 0 0 0 0 1 0 0 1 1 0 0 0 0 0 0 0 0 1 0 0 0 0 0 0 0 1 0 0 1 0 0 0 0 0 0\n",
      " 1 0 0 0 0 0]\n"
     ]
    }
   ],
   "source": [
    "from sklearn.neighbors import KNeighborsClassifier\n",
    "knn=KNeighborsClassifier(n_neighbors=27)\n",
    "knn.fit(x_train,y_train)\n",
    "prediction=knn.predict(x_test)\n",
    "print(y_test,'/n',prediction)"
   ]
  },
  {
   "cell_type": "code",
   "execution_count": 7,
   "metadata": {},
   "outputs": [],
   "source": [
    "from sklearn.metrics import confusion_matrix"
   ]
  },
  {
   "cell_type": "code",
   "execution_count": 8,
   "metadata": {},
   "outputs": [
    {
     "name": "stdout",
     "output_type": "stream",
     "text": [
      "[[86 14]\n",
      " [28 26]]\n"
     ]
    }
   ],
   "source": [
    "cm=confusion_matrix(y_test,prediction)\n",
    "print(cm)"
   ]
  },
  {
   "cell_type": "code",
   "execution_count": 12,
   "metadata": {},
   "outputs": [
    {
     "name": "stdout",
     "output_type": "stream",
     "text": [
      "86 14 28 26\n"
     ]
    }
   ],
   "source": [
    "TN=cm[0][0]\n",
    "FP=cm[0][1]\n",
    "FN=cm[1][0]\n",
    "TP=cm[1][1]\n",
    "print(TN,FP,FN,TP)"
   ]
  },
  {
   "cell_type": "code",
   "execution_count": 13,
   "metadata": {},
   "outputs": [
    {
     "data": {
      "text/plain": [
       "0.7272727272727273"
      ]
     },
     "execution_count": 13,
     "metadata": {},
     "output_type": "execute_result"
    }
   ],
   "source": [
    "accuracy=(TP+TN)/(TP+FP+FN+TN)\n",
    "accuracy"
   ]
  },
  {
   "cell_type": "code",
   "execution_count": 14,
   "metadata": {},
   "outputs": [
    {
     "name": "stdout",
     "output_type": "stream",
     "text": [
      "Error rate=  0.2727272727272727\n"
     ]
    }
   ],
   "source": [
    "print(\"Error rate= \",1-accuracy)"
   ]
  },
  {
   "cell_type": "code",
   "execution_count": 15,
   "metadata": {},
   "outputs": [
    {
     "data": {
      "text/plain": [
       "0.48148148148148145"
      ]
     },
     "execution_count": 15,
     "metadata": {},
     "output_type": "execute_result"
    }
   ],
   "source": [
    "sensitivity=TP/(TP+FN)\n",
    "sensitivity"
   ]
  },
  {
   "cell_type": "code",
   "execution_count": 16,
   "metadata": {},
   "outputs": [
    {
     "data": {
      "text/plain": [
       "0.86"
      ]
     },
     "execution_count": 16,
     "metadata": {},
     "output_type": "execute_result"
    }
   ],
   "source": [
    "specificity=TN/(TN+FP)\n",
    "specificity"
   ]
  },
  {
   "cell_type": "code",
   "execution_count": 17,
   "metadata": {},
   "outputs": [
    {
     "data": {
      "text/plain": [
       "Index(['Pregnancies', 'Glucose', 'BloodPressure', 'SkinThickness', 'Insulin',\n",
       "       'BMI', 'DiabetesPedigreeFunction', 'Age'],\n",
       "      dtype='object')"
      ]
     },
     "execution_count": 17,
     "metadata": {},
     "output_type": "execute_result"
    }
   ],
   "source": [
    "x.columns"
   ]
  },
  {
   "cell_type": "code",
   "execution_count": 71,
   "metadata": {},
   "outputs": [
    {
     "name": "stdout",
     "output_type": "stream",
     "text": [
      "      Id  SepalLengthCm  SepalWidthCm  PetalLengthCm  PetalWidthCm  \\\n",
      "0      1            5.1           3.5            1.4           0.2   \n",
      "1      2            4.9           3.0            1.4           0.2   \n",
      "2      3            4.7           3.2            1.3           0.2   \n",
      "3      4            4.6           3.1            1.5           0.2   \n",
      "4      5            5.0           3.6            1.4           0.2   \n",
      "..   ...            ...           ...            ...           ...   \n",
      "145  146            6.7           3.0            5.2           2.3   \n",
      "146  147            6.3           2.5            5.0           1.9   \n",
      "147  148            6.5           3.0            5.2           2.0   \n",
      "148  149            6.2           3.4            5.4           2.3   \n",
      "149  150            5.9           3.0            5.1           1.8   \n",
      "\n",
      "            Species  \n",
      "0       Iris-setosa  \n",
      "1       Iris-setosa  \n",
      "2       Iris-setosa  \n",
      "3       Iris-setosa  \n",
      "4       Iris-setosa  \n",
      "..              ...  \n",
      "145  Iris-virginica  \n",
      "146  Iris-virginica  \n",
      "147  Iris-virginica  \n",
      "148  Iris-virginica  \n",
      "149  Iris-virginica  \n",
      "\n",
      "[150 rows x 6 columns]\n"
     ]
    }
   ],
   "source": [
    "df1=pd.read_csv(\"Iris.csv\")\n",
    "print(df1)"
   ]
  },
  {
   "cell_type": "code",
   "execution_count": 88,
   "metadata": {},
   "outputs": [],
   "source": [
    "x=df1.drop('Species',axis=1)\n",
    "y=df1[\"Species\"]\n",
    "from sklearn.model_selection import train_test_split\n",
    "x_train,x_test,y_train,y_test=train_test_split(x,y,random_state=5,test_size=0.2)"
   ]
  },
  {
   "cell_type": "code",
   "execution_count": 89,
   "metadata": {},
   "outputs": [
    {
     "name": "stdout",
     "output_type": "stream",
     "text": [
      "82     Iris-versicolor\n",
      "134     Iris-virginica\n",
      "114     Iris-virginica\n",
      "42         Iris-setosa\n",
      "109     Iris-virginica\n",
      "57     Iris-versicolor\n",
      "1          Iris-setosa\n",
      "70     Iris-versicolor\n",
      "25         Iris-setosa\n",
      "84     Iris-versicolor\n",
      "66     Iris-versicolor\n",
      "133     Iris-virginica\n",
      "102     Iris-virginica\n",
      "107     Iris-virginica\n",
      "26         Iris-setosa\n",
      "23         Iris-setosa\n",
      "123     Iris-virginica\n",
      "130     Iris-virginica\n",
      "21         Iris-setosa\n",
      "12         Iris-setosa\n",
      "71     Iris-versicolor\n",
      "128     Iris-virginica\n",
      "48         Iris-setosa\n",
      "72     Iris-versicolor\n",
      "88     Iris-versicolor\n",
      "148     Iris-virginica\n",
      "74     Iris-versicolor\n",
      "96     Iris-versicolor\n",
      "63     Iris-versicolor\n",
      "132     Iris-virginica\n",
      "Name: Species, dtype: object /n ['Iris-versicolor' 'Iris-virginica' 'Iris-virginica' 'Iris-setosa'\n",
      " 'Iris-virginica' 'Iris-versicolor' 'Iris-setosa' 'Iris-versicolor'\n",
      " 'Iris-setosa' 'Iris-versicolor' 'Iris-versicolor' 'Iris-virginica'\n",
      " 'Iris-virginica' 'Iris-virginica' 'Iris-setosa' 'Iris-setosa'\n",
      " 'Iris-virginica' 'Iris-virginica' 'Iris-setosa' 'Iris-setosa'\n",
      " 'Iris-versicolor' 'Iris-virginica' 'Iris-setosa' 'Iris-versicolor'\n",
      " 'Iris-versicolor' 'Iris-virginica' 'Iris-versicolor' 'Iris-versicolor'\n",
      " 'Iris-versicolor' 'Iris-virginica']\n"
     ]
    }
   ],
   "source": [
    "from sklearn.neighbors import KNeighborsClassifier\n",
    "knn=KNeighborsClassifier(n_neighbors=3)\n",
    "knn.fit(x_train,y_train)\n",
    "prediction=knn.predict(x_test)\n",
    "print(y_test,'/n',prediction)"
   ]
  },
  {
   "cell_type": "code",
   "execution_count": 92,
   "metadata": {},
   "outputs": [],
   "source": [
    "from sklearn.metrics import confusion_matrix\n",
    "from sklearn.metrics import classification_report"
   ]
  },
  {
   "cell_type": "code",
   "execution_count": 94,
   "metadata": {
    "scrolled": true
   },
   "outputs": [
    {
     "name": "stdout",
     "output_type": "stream",
     "text": [
      "[[ 8  0  0]\n",
      " [ 0 11  0]\n",
      " [ 0  0 11]]\n",
      "                 precision    recall  f1-score   support\n",
      "\n",
      "    Iris-setosa       1.00      1.00      1.00         8\n",
      "Iris-versicolor       1.00      1.00      1.00        11\n",
      " Iris-virginica       1.00      1.00      1.00        11\n",
      "\n",
      "       accuracy                           1.00        30\n",
      "      macro avg       1.00      1.00      1.00        30\n",
      "   weighted avg       1.00      1.00      1.00        30\n",
      "\n"
     ]
    }
   ],
   "source": [
    "cm=confusion_matrix(y_test,prediction)\n",
    "print(cm)\n",
    "print(classification_report(y_test,prediction))"
   ]
  },
  {
   "cell_type": "code",
   "execution_count": 56,
   "metadata": {},
   "outputs": [
    {
     "data": {
      "text/plain": [
       "type                     0\n",
       "fixed acidity           10\n",
       "volatile acidity         8\n",
       "citric acid              3\n",
       "residual sugar           2\n",
       "chlorides                2\n",
       "free sulfur dioxide      0\n",
       "total sulfur dioxide     0\n",
       "density                  0\n",
       "pH                       9\n",
       "sulphates                4\n",
       "alcohol                  0\n",
       "quality                  0\n",
       "dtype: int64"
      ]
     },
     "execution_count": 56,
     "metadata": {},
     "output_type": "execute_result"
    }
   ],
   "source": [
    "# Write a python program to train knn classifier using the following steps:-\n",
    "# 1) Split the data set into training and testing data set testing size=0.3 random state=42 initilizing the neghibor classifier 5\n",
    "# and print the accuracy score of classifier. Data set name is wineQuality\n",
    "df2=pd.read_csv(\"winequalityN.csv\")\n",
    "# clean the data set and after that check multipal\n",
    "df2.isna().sum()"
   ]
  },
  {
   "cell_type": "code",
   "execution_count": 57,
   "metadata": {},
   "outputs": [],
   "source": [
    "data=df2.dropna()"
   ]
  },
  {
   "cell_type": "code",
   "execution_count": 58,
   "metadata": {},
   "outputs": [
    {
     "name": "stdout",
     "output_type": "stream",
     "text": [
      "      fixed acidity  volatile acidity  citric acid  residual sugar  chlorides  \\\n",
      "0               7.0             0.270         0.36            20.7      0.045   \n",
      "1               6.3             0.300         0.34             1.6      0.049   \n",
      "2               8.1             0.280         0.40             6.9      0.050   \n",
      "3               7.2             0.230         0.32             8.5      0.058   \n",
      "4               7.2             0.230         0.32             8.5      0.058   \n",
      "...             ...               ...          ...             ...        ...   \n",
      "6491            6.8             0.620         0.08             1.9      0.068   \n",
      "6492            6.2             0.600         0.08             2.0      0.090   \n",
      "6494            6.3             0.510         0.13             2.3      0.076   \n",
      "6495            5.9             0.645         0.12             2.0      0.075   \n",
      "6496            6.0             0.310         0.47             3.6      0.067   \n",
      "\n",
      "      free sulfur dioxide  total sulfur dioxide  density    pH  sulphates  \\\n",
      "0                    45.0                 170.0  1.00100  3.00       0.45   \n",
      "1                    14.0                 132.0  0.99400  3.30       0.49   \n",
      "2                    30.0                  97.0  0.99510  3.26       0.44   \n",
      "3                    47.0                 186.0  0.99560  3.19       0.40   \n",
      "4                    47.0                 186.0  0.99560  3.19       0.40   \n",
      "...                   ...                   ...      ...   ...        ...   \n",
      "6491                 28.0                  38.0  0.99651  3.42       0.82   \n",
      "6492                 32.0                  44.0  0.99490  3.45       0.58   \n",
      "6494                 29.0                  40.0  0.99574  3.42       0.75   \n",
      "6495                 32.0                  44.0  0.99547  3.57       0.71   \n",
      "6496                 18.0                  42.0  0.99549  3.39       0.66   \n",
      "\n",
      "      alcohol  type_red  type_white  \n",
      "0         8.8         0           1  \n",
      "1         9.5         0           1  \n",
      "2        10.1         0           1  \n",
      "3         9.9         0           1  \n",
      "4         9.9         0           1  \n",
      "...       ...       ...         ...  \n",
      "6491      9.5         1           0  \n",
      "6492     10.5         1           0  \n",
      "6494     11.0         1           0  \n",
      "6495     10.2         1           0  \n",
      "6496     11.0         1           0  \n",
      "\n",
      "[6463 rows x 13 columns]\n"
     ]
    }
   ],
   "source": [
    "x=data[[\"type\",\"fixed acidity\",\"volatile acidity\",\"citric acid\",\"residual sugar\",\"chlorides\",\"free sulfur dioxide\",\"total sulfur dioxide\",\"density\",\"pH\",\"sulphates\",\"alcohol\"]]\n",
    "y=data[\"quality\"]\n",
    "x=pd.get_dummies(x)\n",
    "print(x)"
   ]
  },
  {
   "cell_type": "code",
   "execution_count": 59,
   "metadata": {},
   "outputs": [],
   "source": [
    "from sklearn.model_selection import train_test_split\n",
    "x_train,x_test,y_train,y_test=train_test_split(x,y,test_size=0.3,random_state=42)"
   ]
  },
  {
   "cell_type": "code",
   "execution_count": 60,
   "metadata": {
    "scrolled": false
   },
   "outputs": [
    {
     "name": "stdout",
     "output_type": "stream",
     "text": [
      "1143    5\n",
      "2708    6\n",
      "4943    4\n",
      "4194    6\n",
      "5956    7\n",
      "       ..\n",
      "1383    6\n",
      "1254    5\n",
      "5847    7\n",
      "3075    7\n",
      "5716    5\n",
      "Name: quality, Length: 1939, dtype: int64 /n [5 5 5 ... 5 6 6]\n"
     ]
    }
   ],
   "source": [
    "from sklearn.neighbors import KNeighborsClassifier\n",
    "knn=KNeighborsClassifier(n_neighbors=5)\n",
    "knn.fit(x_train,y_train)\n",
    "prediction=knn.predict(x_test)\n",
    "print(y_test,'/n',prediction)"
   ]
  },
  {
   "cell_type": "code",
   "execution_count": 61,
   "metadata": {},
   "outputs": [],
   "source": [
    "from sklearn.metrics import confusion_matrix"
   ]
  },
  {
   "cell_type": "code",
   "execution_count": 62,
   "metadata": {},
   "outputs": [
    {
     "name": "stdout",
     "output_type": "stream",
     "text": [
      "[[  0   0   4   2   1   0   0]\n",
      " [  2   4  35  19   3   0   0]\n",
      " [  2  13 350 242  45   0   0]\n",
      " [  0   7 262 471  84   4   0]\n",
      " [  0   7  59 163  94   4   0]\n",
      " [  0   0  13  32  12   4   0]\n",
      " [  0   0   0   1   0   0   0]]\n"
     ]
    }
   ],
   "source": [
    "cm=confusion_matrix(y_test,prediction)\n",
    "print(cm)"
   ]
  },
  {
   "cell_type": "code",
   "execution_count": 63,
   "metadata": {},
   "outputs": [
    {
     "name": "stdout",
     "output_type": "stream",
     "text": [
      "0.47601856627127387\n"
     ]
    }
   ],
   "source": [
    "from sklearn.metrics import accuracy_score\n",
    "accuracy=accuracy_score(y_test,prediction)\n",
    "print(accuracy)"
   ]
  },
  {
   "cell_type": "code",
   "execution_count": 64,
   "metadata": {},
   "outputs": [
    {
     "name": "stdout",
     "output_type": "stream",
     "text": [
      "[[1.423e+01 1.710e+00 2.430e+00 ... 1.040e+00 3.920e+00 1.065e+03]\n",
      " [1.320e+01 1.780e+00 2.140e+00 ... 1.050e+00 3.400e+00 1.050e+03]\n",
      " [1.316e+01 2.360e+00 2.670e+00 ... 1.030e+00 3.170e+00 1.185e+03]\n",
      " ...\n",
      " [1.327e+01 4.280e+00 2.260e+00 ... 5.900e-01 1.560e+00 8.350e+02]\n",
      " [1.317e+01 2.590e+00 2.370e+00 ... 6.000e-01 1.620e+00 8.400e+02]\n",
      " [1.413e+01 4.100e+00 2.740e+00 ... 6.100e-01 1.600e+00 5.600e+02]]\n",
      "[0 0 0 0 0 0 0 0 0 0 0 0 0 0 0 0 0 0 0 0 0 0 0 0 0 0 0 0 0 0 0 0 0 0 0 0 0\n",
      " 0 0 0 0 0 0 0 0 0 0 0 0 0 0 0 0 0 0 0 0 0 0 1 1 1 1 1 1 1 1 1 1 1 1 1 1 1\n",
      " 1 1 1 1 1 1 1 1 1 1 1 1 1 1 1 1 1 1 1 1 1 1 1 1 1 1 1 1 1 1 1 1 1 1 1 1 1\n",
      " 1 1 1 1 1 1 1 1 1 1 1 1 1 1 1 1 1 1 1 2 2 2 2 2 2 2 2 2 2 2 2 2 2 2 2 2 2\n",
      " 2 2 2 2 2 2 2 2 2 2 2 2 2 2 2 2 2 2 2 2 2 2 2 2 2 2 2 2 2 2]\n"
     ]
    }
   ],
   "source": [
    "from sklearn.datasets import load_wine\n",
    "wine=load_wine()\n",
    "x=wine.data\n",
    "y=wine.target\n",
    "print(x)\n",
    "print(y)"
   ]
  },
  {
   "cell_type": "code",
   "execution_count": 9,
   "metadata": {},
   "outputs": [],
   "source": [
    "import pandas as pd\n",
    "import matplotlib.pyplot as plt\n",
    "import seaborn as sns"
   ]
  },
  {
   "cell_type": "code",
   "execution_count": 10,
   "metadata": {},
   "outputs": [
    {
     "name": "stdout",
     "output_type": "stream",
     "text": [
      "    Temperature (°C)  Ice Cream Sales (units)\n",
      "0          -4.662263                41.842986\n",
      "1          -4.316559                34.661120\n",
      "2          -4.213985                39.383001\n",
      "3          -3.949661                37.539845\n",
      "4          -3.578554                32.284531\n",
      "5          -3.455712                30.001138\n",
      "6          -3.108440                22.635401\n",
      "7          -3.081303                25.365022\n",
      "8          -2.672461                19.226970\n",
      "9          -2.652287                20.279679\n",
      "10         -2.651498                13.275828\n",
      "11         -2.288264                18.123991\n",
      "12         -2.111870                11.218294\n",
      "13         -1.818938                10.012868\n",
      "14         -1.660348                12.615181\n",
      "15         -1.326379                10.957731\n",
      "16         -1.173123                 6.689123\n",
      "17         -0.773330                 9.392969\n",
      "18         -0.673753                 5.210163\n",
      "19         -0.149635                 4.673643\n",
      "20         -0.036156                 0.328626\n",
      "21         -0.033895                 0.897603\n",
      "22          0.008608                 3.165600\n",
      "23          0.149245                 1.931416\n",
      "24          0.688781                 2.576782\n",
      "25          0.693599                 4.625689\n",
      "26          0.874905                 0.789974\n",
      "27          1.024181                 2.313806\n",
      "28          1.240712                 1.292361\n",
      "29          1.359813                 0.953115\n",
      "30          1.740000                 3.782570\n",
      "31          1.850552                 4.857988\n",
      "32          1.999310                 8.943823\n",
      "33          2.075101                 8.170735\n",
      "34          2.318591                 7.412094\n",
      "35          2.471946                10.336631\n",
      "36          2.784836                15.996620\n",
      "37          2.831760                12.568237\n",
      "38          2.959932                21.342916\n",
      "39          3.020874                20.114413\n",
      "40          3.211366                22.839406\n",
      "41          3.270044                16.983279\n",
      "42          3.316073                25.142082\n",
      "43          3.335932                26.104740\n",
      "44          3.610778                28.912188\n",
      "45          3.704057                17.843957\n",
      "46          4.130868                34.530743\n",
      "47          4.133534                27.698383\n",
      "48          4.899032                41.514822\n"
     ]
    }
   ],
   "source": [
    "df=pd.read_csv(\"Ice_cream selling data.csv\")\n",
    "print(df)"
   ]
  },
  {
   "cell_type": "code",
   "execution_count": 17,
   "metadata": {},
   "outputs": [],
   "source": [
    "x=df[[\"Temperature (°C)\"]]\n",
    "y=df[\"Ice Cream Sales (units)\"]\n",
    "from sklearn.model_selection import train_test_split\n",
    "x_train,x_test,y_train,y_test=train_test_split(x,y,test_size=0.1,random_state=5)"
   ]
  },
  {
   "cell_type": "code",
   "execution_count": 19,
   "metadata": {},
   "outputs": [
    {
     "data": {
      "image/png": "[encoded data removed]",
      "text/plain": [
       "<Figure size 432x288 with 1 Axes>"
      ]
     },
     "metadata": {
      "needs_background": "light"
     },
     "output_type": "display_data"
    }
   ],
   "source": [
    "from sklearn.linear_model import LinearRegression\n",
    "from sklearn.preprocessing import PolynomialFeatures\n",
    "poly=PolynomialFeatures(degree=3)\n",
    "model_poly=poly.fit_transform(x)\n",
    "lr=LinearRegression()\n",
    "lr.fit(model_poly,y)\n",
    "plt.scatter(x_train,y_train)\n",
    "plt.plot(x,lr.predict(model_poly))\n",
    "plt.show()"
   ]
  },
  {
   "cell_type": "code",
   "execution_count": 14,
   "metadata": {},
   "outputs": [
    {
     "name": "stdout",
     "output_type": "stream",
     "text": [
      "[ 5.45065645 37.87560027 20.18416935 34.22715262  3.31565417  7.02483915\n",
      " 29.39858433  7.91701432 44.4447977   3.08594441 27.87803378 31.33271503\n",
      " 10.14465223 14.63895046  3.3945135  19.39458213  8.40698709  3.12635414\n",
      " 18.92481543 23.69177657  3.13162899  5.05283953  3.25154144  3.31924708\n",
      " 44.88764137 39.33701094 15.47643652 11.59979311 18.7079616  31.29047359\n",
      "  8.26290456 13.94154106 23.48985439 24.96135617  6.42102082  3.7058926\n",
      " 16.58574223 14.18037868 19.13543425 18.93271765  7.38272159 15.94106179\n",
      " 10.4420461  11.36844284]\n"
     ]
    }
   ],
   "source": [
    "y_pred=lr.predict(model_poly)\n",
    "print(y_pred)"
   ]
  },
  {
   "cell_type": "code",
   "execution_count": 56,
   "metadata": {},
   "outputs": [
    {
     "name": "stdout",
     "output_type": "stream",
     "text": [
      "      Id  SepalLengthCm  SepalWidthCm  PetalLengthCm  PetalWidthCm  \\\n",
      "0      1            5.1           3.5            1.4           0.2   \n",
      "1      2            4.9           3.0            1.4           0.2   \n",
      "2      3            4.7           3.2            1.3           0.2   \n",
      "3      4            4.6           3.1            1.5           0.2   \n",
      "4      5            5.0           3.6            1.4           0.2   \n",
      "..   ...            ...           ...            ...           ...   \n",
      "145  146            6.7           3.0            5.2           2.3   \n",
      "146  147            6.3           2.5            5.0           1.9   \n",
      "147  148            6.5           3.0            5.2           2.0   \n",
      "148  149            6.2           3.4            5.4           2.3   \n",
      "149  150            5.9           3.0            5.1           1.8   \n",
      "\n",
      "            Species  \n",
      "0       Iris-setosa  \n",
      "1       Iris-setosa  \n",
      "2       Iris-setosa  \n",
      "3       Iris-setosa  \n",
      "4       Iris-setosa  \n",
      "..              ...  \n",
      "145  Iris-virginica  \n",
      "146  Iris-virginica  \n",
      "147  Iris-virginica  \n",
      "148  Iris-virginica  \n",
      "149  Iris-virginica  \n",
      "\n",
      "[150 rows x 6 columns]\n"
     ]
    }
   ],
   "source": [
    "df1=pd.read_csv(\"Iris.csv\")\n",
    "print(df1)"
   ]
  },
  {
   "cell_type": "code",
   "execution_count": 57,
   "metadata": {},
   "outputs": [],
   "source": [
    "\n",
    "x=df1.drop('Species',axis=1)\n",
    "y=df1[\"Species\"]\n",
    "from sklearn.model_selection import train_test_split\n",
    "x_train,x_test,y_train,y_test=train_test_split(x,y,random_state=4,test_size=0.1)\n",
    "k_values=[3,5,7,9]\n",
    "best_accuracy=0\n",
    "best_k=0"
   ]
  },
  {
   "cell_type": "code",
   "execution_count": 58,
   "metadata": {},
   "outputs": [
    {
     "name": "stdout",
     "output_type": "stream",
     "text": [
      "3 = 1.0\n"
     ]
    }
   ],
   "source": [
    "from sklearn.neighbors import KNeighborsClassifier\n",
    "from sklearn.metrics import accuracy_score\n",
    "for i in k_values:\n",
    "    knn=KNeighborsClassifier(n_neighbors=i)\n",
    "    knn.fit(x_train,y_train)\n",
    "    prediction=knn.predict(x_test)\n",
    "    accuracy=accuracy_score(y_test,prediction)\n",
    "    if accuracy>best_accuracy:\n",
    "        best_accuracy=accuracy\n",
    "        best_k=i\n",
    "print(best_k,\"=\",best_accuracy)"
   ]
  },
  {
   "cell_type": "code",
   "execution_count": 59,
   "metadata": {},
   "outputs": [
    {
     "name": "stdout",
     "output_type": "stream",
     "text": [
      "[[6 0 0]\n",
      " [0 3 0]\n",
      " [0 0 6]]\n"
     ]
    }
   ],
   "source": [
    "from sklearn.metrics import confusion_matrix\n",
    "cm=confusion_matrix(y_test,prediction)\n",
    "print(cm)"
   ]
  },
  {
   "cell_type": "code",
   "execution_count": 95,
   "metadata": {},
   "outputs": [
    {
     "name": "stdout",
     "output_type": "stream",
     "text": [
      "     Unnamed: 0     crim    zn  indus  chas    nox     rm   age     dis  rad  \\\n",
      "0             1  0.00632  18.0   2.31     0  0.538  6.575  65.2  4.0900    1   \n",
      "1             2  0.02731   0.0   7.07     0  0.469  6.421  78.9  4.9671    2   \n",
      "2             3  0.02729   0.0   7.07     0  0.469  7.185  61.1  4.9671    2   \n",
      "3             4  0.03237   0.0   2.18     0  0.458  6.998  45.8  6.0622    3   \n",
      "4             5  0.06905   0.0   2.18     0  0.458  7.147  54.2  6.0622    3   \n",
      "..          ...      ...   ...    ...   ...    ...    ...   ...     ...  ...   \n",
      "501         502  0.06263   0.0  11.93     0  0.573  6.593  69.1  2.4786    1   \n",
      "502         503  0.04527   0.0  11.93     0  0.573  6.120  76.7  2.2875    1   \n",
      "503         504  0.06076   0.0  11.93     0  0.573  6.976  91.0  2.1675    1   \n",
      "504         505  0.10959   0.0  11.93     0  0.573  6.794  89.3  2.3889    1   \n",
      "505         506  0.04741   0.0  11.93     0  0.573  6.030  80.8  2.5050    1   \n",
      "\n",
      "     tax  ptratio   black  lstat  medv  \n",
      "0    296     15.3  396.90   4.98  24.0  \n",
      "1    242     17.8  396.90   9.14  21.6  \n",
      "2    242     17.8  392.83   4.03  34.7  \n",
      "3    222     18.7  394.63   2.94  33.4  \n",
      "4    222     18.7  396.90   5.33  36.2  \n",
      "..   ...      ...     ...    ...   ...  \n",
      "501  273     21.0  391.99   9.67  22.4  \n",
      "502  273     21.0  396.90   9.08  20.6  \n",
      "503  273     21.0  396.90   5.64  23.9  \n",
      "504  273     21.0  393.45   6.48  22.0  \n",
      "505  273     21.0  396.90   7.88  11.9  \n",
      "\n",
      "[506 rows x 15 columns]\n"
     ]
    }
   ],
   "source": [
    "# write a python program for multiple linear regression for housing.csv.Predict \"medv\" find mse,r2_score and predict medv for below input values\n",
    "df2=pd.read_csv(\"housing.csv\")\n",
    "print(df2)"
   ]
  },
  {
   "cell_type": "code",
   "execution_count": 99,
   "metadata": {},
   "outputs": [],
   "source": [
    "x=df2.drop(\"medv\",axis=1)\n",
    "y=df2[\"medv\"]"
   ]
  },
  {
   "cell_type": "code",
   "execution_count": 100,
   "metadata": {},
   "outputs": [],
   "source": [
    "from sklearn.model_selection import train_test_split\n",
    "x_train,x_test,y_train,y_test=train_test_split(x,y,test_size=0.2,random_state=5)"
   ]
  },
  {
   "cell_type": "code",
   "execution_count": 102,
   "metadata": {},
   "outputs": [
    {
     "name": "stdout",
     "output_type": "stream",
     "text": [
      "[ 3.74964488e+01  3.20223764e+01  2.72863782e+01  5.72832858e+00\n",
      "  3.47900931e+01  5.80129318e+00  2.62551920e+01  3.17379150e+01\n",
      "  2.67324471e+01  2.25993691e+01  3.21299152e+01  2.09008155e+01\n",
      "  2.31803491e+01  3.31278042e+01  2.81353324e+01  1.35949007e+01\n",
      "  3.06247174e-02  1.88605213e+01  1.26342799e+01  1.40793513e+01\n",
      "  1.06988928e+00  1.99493105e+01  3.81777840e+01  2.36779235e+01\n",
      "  3.10787403e+01  1.10180377e+01  2.45344047e+01  2.36475504e+01\n",
      "  2.19022248e+01  1.99715761e+01  1.50804660e+01  6.00057456e+00\n",
      "  1.84414716e+01  2.22598597e+01  2.87427173e+01  1.92521906e+01\n",
      "  3.00458393e+01  8.65266793e+00  4.06607613e+01  3.53287035e+01\n",
      "  2.08186132e+01  2.68330430e+00  2.98981813e+01  1.20030834e+01\n",
      "  2.65738251e+01  3.05069996e+01 -6.41023839e+00  1.98093878e+01\n",
      "  2.11643806e+01  1.26216200e+01  2.07981336e+01  1.86450158e+01\n",
      "  2.41623203e+01  1.30164667e+01  1.73348276e+01  2.55449852e+01\n",
      "  3.51266849e+01  1.51181378e+01  2.77883996e+01  2.14318559e+01\n",
      "  1.93354126e+01  2.58594030e+01  1.49496107e+01  3.33378954e+01\n",
      "  2.34872085e+01  1.31209512e+01  1.96200543e+01  2.51198284e+01\n",
      "  2.19444968e+01  2.18479156e+01  2.03502645e+01  2.68044641e+01\n",
      "  1.70567073e+01  1.89179630e+01  2.06504086e+01  2.50598704e+01\n",
      "  2.20569703e+01  1.47246872e+01  3.41229455e+01  1.85371667e+01\n",
      "  2.31262680e+01  4.15702511e+01  2.31044477e+01  1.55526010e+01\n",
      "  2.62994028e+01  1.70360506e+01  1.74615993e+01  1.00760187e+01\n",
      "  1.83670401e+01  1.65038423e+01  3.56620313e+01  1.79401083e+01\n",
      "  2.19505346e+01  1.91803230e+01  2.38105215e+01  2.82902067e+01\n",
      "  1.25896332e+01  2.12577697e+01  2.22469043e+01  1.33629846e+01\n",
      "  2.37735976e+01  2.09767242e+01]\n"
     ]
    }
   ],
   "source": [
    "from sklearn.linear_model import LinearRegression\n",
    "lr=LinearRegression()\n",
    "lr.fit(x_train,y_train)\n",
    "y_pred=lr.predict(x_test)\n",
    "print(y_pred)"
   ]
  },
  {
   "cell_type": "code",
   "execution_count": 107,
   "metadata": {},
   "outputs": [
    {
     "name": "stdout",
     "output_type": "stream",
     "text": [
      "MSE:  21.176142408241997\n",
      "MSE:  0.7295300033236582\n"
     ]
    }
   ],
   "source": [
    "from sklearn import metrics\n",
    "print(\"MSE: \",metrics.mean_squared_error(y_test,y_pred))\n",
    "print(\"MSE: \",metrics.r2_score(y_test,y_pred))"
   ]
  },
  {
   "cell_type": "code",
   "execution_count": 108,
   "metadata": {},
   "outputs": [
    {
     "name": "stdout",
     "output_type": "stream",
     "text": [
      "[24.11601345]\n"
     ]
    }
   ],
   "source": [
    "y_pred=lr.predict([[507,0.17,0,10.95,0,0.6,6.6,70.1,2.3,5,300,20,395.0,9.7]])\n",
    "print(y_pred)"
   ]
  },
  {
   "cell_type": "code",
   "execution_count": 116,
   "metadata": {},
   "outputs": [],
   "source": [
    "from sklearn.datasets import load_breast_cancer\n",
    "data=load_breast_cancer()"
   ]
  },
  {
   "cell_type": "code",
   "execution_count": 117,
   "metadata": {},
   "outputs": [
    {
     "name": "stdout",
     "output_type": "stream",
     "text": [
      "0      0\n",
      "1      0\n",
      "2      0\n",
      "3      0\n",
      "4      0\n",
      "      ..\n",
      "564    0\n",
      "565    0\n",
      "566    0\n",
      "567    0\n",
      "568    1\n",
      "Name: target, Length: 569, dtype: int32\n"
     ]
    }
   ],
   "source": [
    "df=pd.DataFrame(data.data,columns=data.feature_names)\n",
    "df[\"target\"]=data.target\n",
    "print(df[\"target\"])"
   ]
  },
  {
   "cell_type": "code",
   "execution_count": 120,
   "metadata": {},
   "outputs": [],
   "source": [
    "x=df.drop(\"target\",axis=1)\n",
    "y=df[\"target\"]\n",
    "from sklearn.model_selection import train_test_split\n",
    "from sklearn.preprocessing import StandardScaler\n",
    "x_train,x_test,y_train,y_test=train_test_split(x,y,test_size=0.2,random_state=4)\n",
    "scaler=StandardScaler()\n",
    "x_train_scaled=scaler.fit_transform(x_train)\n",
    "x_test_scaled=scaler.transform(x_test)"
   ]
  },
  {
   "cell_type": "code",
   "execution_count": 123,
   "metadata": {},
   "outputs": [
    {
     "name": "stdout",
     "output_type": "stream",
     "text": [
      "[[-0.87737439 -0.99632936 -0.84836506 ... -0.11026997  0.63086499\n",
      "   0.39596053]\n",
      " [ 0.23276443 -0.39373657  0.19955174 ...  0.79850777  0.81341746\n",
      "  -0.68247993]\n",
      " [ 0.20707998 -0.53919     0.11856132 ... -0.53687358 -0.62276969\n",
      "  -0.8610112 ]\n",
      " ...\n",
      " [-0.03264151 -0.83471443 -0.10044337 ... -0.49926369 -1.25120254\n",
      "  -0.92628669]\n",
      " [-0.99152748 -0.95246245 -1.01365162 ... -1.76049983 -0.3239006\n",
      "  -1.23090567]\n",
      " [ 2.8868238   0.21347378  3.06520748 ...  1.69039945  0.50323981\n",
      "  -0.20156131]]\n"
     ]
    }
   ],
   "source": [
    "print(x_train_scaled)"
   ]
  },
  {
   "cell_type": "code",
   "execution_count": 122,
   "metadata": {},
   "outputs": [
    {
     "name": "stdout",
     "output_type": "stream",
     "text": [
      "[[ 0.08151158 -0.63154139  0.08798331 ...  0.4101281   0.23021885\n",
      "   0.2196609 ]\n",
      " [-0.59484549  0.7952875  -0.54836995 ... -0.08417331 -1.16234957\n",
      "   0.54603838]\n",
      " [ 1.53981732 -0.08666822  1.54870329 ...  1.27899331  0.09290062\n",
      "   0.86962631]\n",
      " ...\n",
      " [-0.87166673 -0.10282971 -0.77357289 ...  2.11408637  2.00889384\n",
      "   3.15761613]\n",
      " [ 0.6066158   0.60134959  0.6396272  ... -0.1532527  -0.28189738\n",
      "  -0.23280429]\n",
      " [-0.70329092  0.17191565 -0.69464856 ... -0.51400062  0.47739167\n",
      "   0.3234322 ]]\n"
     ]
    }
   ],
   "source": [
    "print(x_test_scaled)"
   ]
  },
  {
   "cell_type": "code",
   "execution_count": 127,
   "metadata": {},
   "outputs": [
    {
     "name": "stdout",
     "output_type": "stream",
     "text": [
      "340    1\n",
      "382    1\n",
      "300    0\n",
      "262    0\n",
      "363    1\n",
      "      ..\n",
      "202    0\n",
      "541    1\n",
      "379    0\n",
      "329    0\n",
      "531    1\n",
      "Name: target, Length: 114, dtype: int32 /n [1 1 0 0 1 1 1 1 1 1 0 1 1 1 1 1 1 1 1 1 1 1 0 1 1 0 1 1 1 1 1 1 1 1 1 0 1\n",
      " 0 0 0 1 1 0 1 1 1 1 0 1 0 0 1 1 1 1 1 0 1 1 0 1 1 1 1 1 1 1 1 0 0 1 1 1 0\n",
      " 1 0 0 1 1 1 1 0 0 1 1 1 1 1 0 1 1 0 1 0 0 1 0 1 1 1 1 0 0 1 1 1 1 1 1 0 1\n",
      " 0 0 1]\n"
     ]
    }
   ],
   "source": [
    "from sklearn.neighbors import KNeighborsClassifier\n",
    "knn=KNeighborsClassifier(n_neighbors=27)\n",
    "knn.fit(x_train_scaled,y_train)\n",
    "prediction=knn.predict(x_test_scaled)\n",
    "print(y_test,'/n',prediction)"
   ]
  },
  {
   "cell_type": "code",
   "execution_count": 2,
   "metadata": {},
   "outputs": [
    {
     "name": "stdout",
     "output_type": "stream",
     "text": [
      "    CGPA  Communication  Apptitude  Programming Skill  Job Offered\n",
      "0      1              1          1                  1            1\n",
      "1      2              1          1                  1            1\n",
      "2      0              0          0                  1            0\n",
      "3      0              1          0                  0            0\n",
      "4      2              1          1                  0            1\n",
      "5      2              1          1                  1            1\n",
      "6      1              0          0                  0            0\n",
      "7      1              0          0                  1            0\n",
      "8      2              0          1                  1            1\n",
      "9      1              1          1                  1            1\n",
      "10     0              0          1                  0            0\n",
      "11     0              0          1                  0            0\n",
      "12     1              1          1                  0            1\n",
      "13     0              1          0                  1            0\n",
      "14     2              0          0                  0            0\n",
      "15     1              0          1                  1            0\n",
      "16     2              0          0                  0            0\n",
      "17     1              1          1                  0            1\n"
     ]
    }
   ],
   "source": [
    "import pandas as pd\n",
    "import matplotlib.pyplot as plt\n",
    "import numpy as np\n",
    "df=pd.read_csv(\"DecisionTreeDataset -Num.csv\")\n",
    "print(df)"
   ]
  },
  {
   "cell_type": "code",
   "execution_count": 3,
   "metadata": {},
   "outputs": [
    {
     "name": "stdout",
     "output_type": "stream",
     "text": [
      "   CGPA  Communication  Apptitude  Programming Skill  Job Offered\n",
      "0     1              1          1                  1            1\n",
      "1     2              1          1                  1            1\n",
      "2     0              0          0                  1            0\n",
      "3     0              1          0                  0            0\n",
      "4     2              1          1                  0            1\n",
      "2\n",
      "[1 1 0 1]\n"
     ]
    }
   ],
   "source": [
    "from sklearn.tree import DecisionTreeClassifier\n",
    "from sklearn.model_selection import train_test_split\n",
    "print(df.head())\n",
    "x=df.drop(\"Job Offered\",axis=1)\n",
    "y=df[\"Job Offered\"]\n",
    "x_train,x_test,y_train,y_test=train_test_split(x,y,test_size=0.2,random_state=42)\n",
    "dtree=DecisionTreeClassifier(criterion=\"entropy\",max_depth=3)\n",
    "model=dtree.fit(x_train,y_train)\n",
    "print(dtree.get_depth())\n",
    "y_pred=dtree.predict(x_test)\n",
    "print(y_pred)"
   ]
  },
  {
   "cell_type": "code",
   "execution_count": 9,
   "metadata": {},
   "outputs": [],
   "source": [
    "from sklearn.metrics import confusion_matrix\n",
    "from sklearn.metrics import accuracy_score"
   ]
  },
  {
   "cell_type": "code",
   "execution_count": 11,
   "metadata": {},
   "outputs": [
    {
     "name": "stdout",
     "output_type": "stream",
     "text": [
      "[[0 1]\n",
      " [0 3]]\n",
      "Accuracy:  0.75\n"
     ]
    }
   ],
   "source": [
    "cm=confusion_matrix(y_pred,y_test)\n",
    "print(cm)\n",
    "print(\"Accuracy: \",accuracy_score(y_pred,y_test))"
   ]
  },
  {
   "cell_type": "code",
   "execution_count": 12,
   "metadata": {},
   "outputs": [
    {
     "name": "stdout",
     "output_type": "stream",
     "text": [
      "|--- feature_1 <= 0.50\n",
      "|   |--- class: 0\n",
      "|--- feature_1 >  0.50\n",
      "|   |--- feature_0 <= 0.50\n",
      "|   |   |--- class: 0\n",
      "|   |--- feature_0 >  0.50\n",
      "|   |   |--- class: 1\n",
      "\n"
     ]
    }
   ],
   "source": [
    "from sklearn import tree\n",
    "print(tree.export_text(dtree))"
   ]
  },
  {
   "cell_type": "code",
   "execution_count": 14,
   "metadata": {},
   "outputs": [
    {
     "data": {
      "image/png": "[encoded data removed]",
      "text/plain": [
       "<Figure size 1440x720 with 1 Axes>"
      ]
     },
     "metadata": {
      "needs_background": "light"
     },
     "output_type": "display_data"
    }
   ],
   "source": [
    "plt.figure(figsize=(20,10))\n",
    "tree.plot_tree(dtree,feature_names=[\"CGPA\",\"Communication\",\"Apptitude\",\"Programming Skill\"],class_names=\"Job Offered\",filled=True)\n",
    "plt.show()"
   ]
  },
  {
   "cell_type": "code",
   "execution_count": null,
   "metadata": {},
   "outputs": [],
   "source": []
  }
 ],
 "metadata": {
  "kernelspec": {
   "display_name": "Python 3",
   "language": "python",
   "name": "python3"
  },
  "language_info": {
   "codemirror_mode": {
    "name": "ipython",
    "version": 3
   },
   "file_extension": ".py",
   "mimetype": "text/x-python",
   "name": "python",
   "nbconvert_exporter": "python",
   "pygments_lexer": "ipython3",
   "version": "3.8.5"
  }
 },
 "nbformat": 4,
 "nbformat_minor": 4
}
